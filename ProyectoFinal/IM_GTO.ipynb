{
  "nbformat": 4,
  "nbformat_minor": 0,
  "metadata": {
    "colab": {
      "name": "Untitled2.ipynb",
      "provenance": [],
      "collapsed_sections": []
    },
    "kernelspec": {
      "name": "python3",
      "display_name": "Python 3"
    },
    "language_info": {
      "name": "python"
    }
  },
  "cells": [
    {
      "cell_type": "code",
      "metadata": {
        "colab": {
          "base_uri": "https://localhost:8080/"
        },
        "id": "_6_tX1hXkaj8",
        "outputId": "d6db4602-7c1a-4f2b-ac77-5094b2f053d5"
      },
      "source": [
        "from google.colab import drive\n",
        "drive.mount('/content/drive')"
      ],
      "execution_count": null,
      "outputs": [
        {
          "output_type": "stream",
          "text": [
            "Drive already mounted at /content/drive; to attempt to forcibly remount, call drive.mount(\"/content/drive\", force_remount=True).\n"
          ],
          "name": "stdout"
        }
      ]
    },
    {
      "cell_type": "code",
      "metadata": {
        "colab": {
          "base_uri": "https://localhost:8080/"
        },
        "id": "tdnQIGVylYE-",
        "outputId": "897a2708-c696-4ca2-aba8-318510e378be"
      },
      "source": [
        "%cd /content/drive/MyDrive/Colab_data"
      ],
      "execution_count": null,
      "outputs": [
        {
          "output_type": "stream",
          "text": [
            "/content/drive/MyDrive/Colab_data\n"
          ],
          "name": "stdout"
        }
      ]
    },
    {
      "cell_type": "code",
      "metadata": {
        "id": "YdNi7iNXmz_c"
      },
      "source": [
        "import pandas as pd\n",
        "import numpy as np\n",
        "from sklearn.model_selection import train_test_split\n",
        "from sklearn.linear_model import LinearRegression\n",
        "import matplotlib.pyplot as plt\n",
        "%matplotlib inline"
      ],
      "execution_count": null,
      "outputs": []
    },
    {
      "cell_type": "code",
      "metadata": {
        "id": "G0TaLYMcm7P0"
      },
      "source": [
        "# Leer el archivo CSV\n",
        "csv_file = pd.read_csv('/content/drive/MyDrive/Colab_data/Base_Indice_de_marginacion_municipal_9015.csv', index_col=0, encoding='latin-1')\n",
        "years = [1990, 2016]"
      ],
      "execution_count": null,
      "outputs": []
    },
    {
      "cell_type": "code",
      "metadata": {
        "id": "wynRU6yrnEix"
      },
      "source": [
        "# Eliminar columnas que no queremos\n",
        "drop_colums = csv_file.drop(['CVE_MUN','POB_TOT','VP','ANALF','SPRIM','OVSDE','OVSEE','OVSAE','VHAC','OVPT','PL<5000','PO2SM','OVSD','OVSDSE','GM','IND0A100','LUG_NAC','LUGAR_EST'], axis=1)"
      ],
      "execution_count": null,
      "outputs": []
    },
    {
      "cell_type": "code",
      "metadata": {
        "id": "Q6UBApyknKk8"
      },
      "source": [
        "def convert_array_float(array):\n",
        "  return [float(x) for x in array]\n",
        "\n",
        "def clean_data_for_value_state(state):\n",
        "  clean_up = drop_colums['ENT'] == state\n",
        "  drop_ent = drop_colums[clean_up]\n",
        "  return drop_ent.drop('ENT', axis=1)\n",
        "\n",
        "def get_mean_im(data_csv):\n",
        "  mean = {}\n",
        "  \n",
        "  for i in range(years[0], years[1]):\n",
        "    data = data_csv[data_csv['AÑO'] == i]\n",
        "    if len(data) >= 1:\n",
        "      mean[i] = np.mean(convert_array_float(data['IM'].values))\n",
        "\n",
        "  return mean"
      ],
      "execution_count": null,
      "outputs": []
    },
    {
      "cell_type": "code",
      "metadata": {
        "id": "oIz4_A2inRHq"
      },
      "source": [
        "# Filtrar datos por ENT que queremos para obtener sus MUN\n",
        "new_csv = clean_data_for_value_state('Guanajuato')"
      ],
      "execution_count": null,
      "outputs": []
    },
    {
      "cell_type": "code",
      "metadata": {
        "colab": {
          "base_uri": "https://localhost:8080/",
          "height": 450
        },
        "id": "YFCiqLhxnZ4e",
        "outputId": "e19ac60b-d1e0-4194-a87a-8d61cc4901bf"
      },
      "source": [
        "new_csv.sort_values('AÑO')"
      ],
      "execution_count": null,
      "outputs": [
        {
          "output_type": "execute_result",
          "data": {
            "text/html": [
              "<div>\n",
              "<style scoped>\n",
              "    .dataframe tbody tr th:only-of-type {\n",
              "        vertical-align: middle;\n",
              "    }\n",
              "\n",
              "    .dataframe tbody tr th {\n",
              "        vertical-align: top;\n",
              "    }\n",
              "\n",
              "    .dataframe thead th {\n",
              "        text-align: right;\n",
              "    }\n",
              "</style>\n",
              "<table border=\"1\" class=\"dataframe\">\n",
              "  <thead>\n",
              "    <tr style=\"text-align: right;\">\n",
              "      <th></th>\n",
              "      <th>MUN</th>\n",
              "      <th>IM</th>\n",
              "      <th>AÑO</th>\n",
              "    </tr>\n",
              "    <tr>\n",
              "      <th>CVE_ENT</th>\n",
              "      <th></th>\n",
              "      <th></th>\n",
              "      <th></th>\n",
              "    </tr>\n",
              "  </thead>\n",
              "  <tbody>\n",
              "    <tr>\n",
              "      <th>11</th>\n",
              "      <td>Santa Catarina</td>\n",
              "      <td>0.78</td>\n",
              "      <td>1990</td>\n",
              "    </tr>\n",
              "    <tr>\n",
              "      <th>11</th>\n",
              "      <td>Yuriria</td>\n",
              "      <td>-0.33</td>\n",
              "      <td>1990</td>\n",
              "    </tr>\n",
              "    <tr>\n",
              "      <th>11</th>\n",
              "      <td>San Luis de la Paz</td>\n",
              "      <td>0.07</td>\n",
              "      <td>1990</td>\n",
              "    </tr>\n",
              "    <tr>\n",
              "      <th>11</th>\n",
              "      <td>Doctor Mora</td>\n",
              "      <td>0.527</td>\n",
              "      <td>1990</td>\n",
              "    </tr>\n",
              "    <tr>\n",
              "      <th>11</th>\n",
              "      <td>San Francisco del Rincon</td>\n",
              "      <td>-1.004</td>\n",
              "      <td>1990</td>\n",
              "    </tr>\n",
              "    <tr>\n",
              "      <th>...</th>\n",
              "      <td>...</td>\n",
              "      <td>...</td>\n",
              "      <td>...</td>\n",
              "    </tr>\n",
              "    <tr>\n",
              "      <th>11</th>\n",
              "      <td>Apaseo el Grande</td>\n",
              "      <td>-0.803</td>\n",
              "      <td>2015</td>\n",
              "    </tr>\n",
              "    <tr>\n",
              "      <th>11</th>\n",
              "      <td>Cortazar</td>\n",
              "      <td>-0.967</td>\n",
              "      <td>2015</td>\n",
              "    </tr>\n",
              "    <tr>\n",
              "      <th>11</th>\n",
              "      <td>Xichu</td>\n",
              "      <td>0.677</td>\n",
              "      <td>2015</td>\n",
              "    </tr>\n",
              "    <tr>\n",
              "      <th>11</th>\n",
              "      <td>Tierra Blanca</td>\n",
              "      <td>0.413</td>\n",
              "      <td>2015</td>\n",
              "    </tr>\n",
              "    <tr>\n",
              "      <th>11</th>\n",
              "      <td>Leon</td>\n",
              "      <td>-1.494</td>\n",
              "      <td>2015</td>\n",
              "    </tr>\n",
              "  </tbody>\n",
              "</table>\n",
              "<p>276 rows × 3 columns</p>\n",
              "</div>"
            ],
            "text/plain": [
              "                              MUN      IM   AÑO\n",
              "CVE_ENT                                        \n",
              "11                 Santa Catarina    0.78  1990\n",
              "11                        Yuriria   -0.33  1990\n",
              "11             San Luis de la Paz    0.07  1990\n",
              "11                    Doctor Mora   0.527  1990\n",
              "11       San Francisco del Rincon  -1.004  1990\n",
              "...                           ...     ...   ...\n",
              "11               Apaseo el Grande  -0.803  2015\n",
              "11                       Cortazar  -0.967  2015\n",
              "11                          Xichu   0.677  2015\n",
              "11                  Tierra Blanca   0.413  2015\n",
              "11                           Leon  -1.494  2015\n",
              "\n",
              "[276 rows x 3 columns]"
            ]
          },
          "metadata": {
            "tags": []
          },
          "execution_count": 11
        }
      ]
    },
    {
      "cell_type": "code",
      "metadata": {
        "colab": {
          "base_uri": "https://localhost:8080/"
        },
        "id": "L7mCyQ5Ond_o",
        "outputId": "1f869cc5-3367-4bd9-d314-ab4d4f81a159"
      },
      "source": [
        "for i in range(years[0], years[1]):\n",
        "  data = new_csv[new_csv['AÑO'] == i]\n",
        "  if len(data) >= 1:\n",
        "    print(data)"
      ],
      "execution_count": null,
      "outputs": [
        {
          "output_type": "stream",
          "text": [
            "                                                       MUN      IM   AÑO\n",
            "CVE_ENT                                                                 \n",
            "11                                                    Leon  -1.686  1990\n",
            "11                                                Irapuato   -1.25  1990\n",
            "11                                                  Celaya  -1.481  1990\n",
            "11                                               Salamanca   -1.24  1990\n",
            "11                                                 Penjamo  -0.328  1990\n",
            "11                                       Valle de Santiago  -0.499  1990\n",
            "11                                              Guanajuato  -1.169  1990\n",
            "11                                                   Silao  -0.583  1990\n",
            "11                                                Acambaro  -0.924  1990\n",
            "11                                                 Allende   -0.22  1990\n",
            "11        Dolores Hidalgo Cuna de la Independencia Naci...  -0.018  1990\n",
            "11                                             Salvatierra  -0.728  1990\n",
            "11                                              San Felipe    0.24  1990\n",
            "11                                San Francisco del Rincon  -1.004  1990\n",
            "11                                      San Luis de la Paz    0.07  1990\n",
            "11                                                 Yuriria   -0.33  1990\n",
            "11                                                Cortazar  -0.807  1990\n",
            "11                                                 Abasolo  -0.185  1990\n",
            "11                                        Apaseo el Grande  -0.454  1990\n",
            "11                                               Comonfort  -0.214  1990\n",
            "11                           Santa Cruz de Juventino Rosas  -0.286  1990\n",
            "11                                               Jerecuaro   0.441  1990\n",
            "11                                          Apaseo el Alto  -0.309  1990\n",
            "11                                                Moroleon  -1.509  1990\n",
            "11                                               Uriangato   -1.16  1990\n",
            "11                                                  Romita  -0.178  1990\n",
            "11                                       San Jose Iturbide  -0.096  1990\n",
            "11                                               Villagran  -0.672  1990\n",
            "11                                                Tarimoro  -0.275  1990\n",
            "11                                          Manuel Doblado  -0.065  1990\n",
            "11                                   San Diego de la Union   0.419  1990\n",
            "11                                     Purisima del Rincon  -0.772  1990\n",
            "11                                      Jaral del Progreso  -0.606  1990\n",
            "11                                               Cueramaro  -0.454  1990\n",
            "11                                                  Ocampo   0.196  1990\n",
            "11                                               Huanimaro  -0.356  1990\n",
            "11                                                Victoria   0.797  1990\n",
            "11                                             Doctor Mora   0.527  1990\n",
            "11                                           Tierra Blanca   0.984  1990\n",
            "11                                             Tarandacuao  -0.702  1990\n",
            "11                                                   Xichu   1.686  1990\n",
            "11                                            Pueblo Nuevo  -0.394  1990\n",
            "11                                      Santiago Maravatio  -0.229  1990\n",
            "11                                                 Coroneo   0.218  1990\n",
            "11                                                 Atarjea     1.4  1990\n",
            "11                                          Santa Catarina    0.78  1990\n",
            "                                                       MUN      IM   AÑO\n",
            "CVE_ENT                                                                 \n",
            "11                                                    Leon  -1.604  1995\n",
            "11                                                Irapuato  -1.142  1995\n",
            "11                                                  Celaya   -1.41  1995\n",
            "11                                               Salamanca  -1.203  1995\n",
            "11                                                 Penjamo  -0.361  1995\n",
            "11                                                   Silao  -0.722  1995\n",
            "11                                       Valle De Santiago  -0.524  1995\n",
            "11                                              Guanajuato  -1.136  1995\n",
            "11        Dolores Hidalgo Cuna de la Independencia Naci...  -0.096  1995\n",
            "11                                                 Allende  -0.313  1995\n",
            "11                                                Acambaro  -0.948  1995\n",
            "11                                             Salvatierra   -0.79  1995\n",
            "11                                San Francisco Del Rincon  -1.134  1995\n",
            "11                                              San Felipe   0.121  1995\n",
            "11                                      San Luis De La Paz   0.008  1995\n",
            "11                                                Cortazar  -0.821  1995\n",
            "11                                                 Yuriria  -0.383  1995\n",
            "11                                                 Abasolo  -0.334  1995\n",
            "11                                        Apaseo El Grande   -0.54  1995\n",
            "11                                               Comonfort  -0.248  1995\n",
            "11                           Santa Cruz De Juventino Rosas  -0.372  1995\n",
            "11                                          Apaseo El Alto  -0.518  1995\n",
            "11                                               Jerecuaro   0.271  1995\n",
            "11                                                  Romita  -0.336  1995\n",
            "11                                       San Jose Iturbide  -0.428  1995\n",
            "11                                               Uriangato  -1.186  1995\n",
            "11                                                Moroleon  -1.468  1995\n",
            "11                                               Villagran  -0.646  1995\n",
            "11                                          Manuel Doblado  -0.329  1995\n",
            "11                                                Tarimoro  -0.425  1995\n",
            "11                                     Purisima Del Rincon  -1.177  1995\n",
            "11                                   San Diego De La Union   0.088  1995\n",
            "11                                      Jaral Del Progreso  -0.628  1995\n",
            "11                                               Cueramaro  -0.557  1995\n",
            "11                                                  Ocampo   0.089  1995\n",
            "11                                               Huanimaro  -0.589  1995\n",
            "11                                             Doctor Mora   0.052  1995\n",
            "11                                                Victoria   0.764  1995\n",
            "11                                           Tierra Blanca   0.712  1995\n",
            "11                                             Tarandacuao  -0.827  1995\n",
            "11                                                   Xichu   1.752  1995\n",
            "11                                            Pueblo Nuevo  -0.628  1995\n",
            "11                                                 Coroneo  -0.238  1995\n",
            "11                                      Santiago Maravatio  -0.474  1995\n",
            "11                                                 Atarjea   1.142  1995\n",
            "11                                          Santa Catarina   0.414  1995\n",
            "                                                       MUN      IM   AÑO\n",
            "CVE_ENT                                                                 \n",
            "11                                                    Leon  -1.582  2000\n",
            "11                                                Irapuato  -1.239  2000\n",
            "11                                                  Celaya  -1.516  2000\n",
            "11                                               Salamanca  -1.223  2000\n",
            "11                                                 Penjamo  -0.276  2000\n",
            "11                                              Guanajuato  -1.317  2000\n",
            "11                                                 Allende  -0.428  2000\n",
            "11                                                   Silao  -0.716  2000\n",
            "11                                       Valle De Santiago  -0.575  2000\n",
            "11        Dolores Hidalgo Cuna de la Independencia Naci...  -0.219  2000\n",
            "11                                                Acambaro  -0.886  2000\n",
            "11                                San Francisco Del Rincon  -1.116  2000\n",
            "11                                      San Luis De La Paz   -0.13  2000\n",
            "11                                              San Felipe   0.233  2000\n",
            "11                                             Salvatierra  -0.807  2000\n",
            "11                                                Cortazar  -0.981  2000\n",
            "11                                                 Abasolo  -0.213  2000\n",
            "11                                                 Yuriria  -0.395  2000\n",
            "11                                        Apaseo El Grande  -0.592  2000\n",
            "11                                               Comonfort  -0.235  2000\n",
            "11                           Santa Cruz De Juventino Rosas  -0.365  2000\n",
            "11                                          Apaseo El Alto   -0.51  2000\n",
            "11                                               Jerecuaro   0.415  2000\n",
            "11                                       San Jose Iturbide  -0.474  2000\n",
            "11                                               Uriangato  -1.197  2000\n",
            "11                                                  Romita    -0.2  2000\n",
            "11                                                Moroleon  -1.418  2000\n",
            "11                                               Villagran  -0.935  2000\n",
            "11                                     Purisima Del Rincon  -1.005  2000\n",
            "11                                          Manuel Doblado  -0.272  2000\n",
            "11                                                Tarimoro  -0.388  2000\n",
            "11                                   San Diego De La Union   0.312  2000\n",
            "11                                      Jaral Del Progreso  -0.844  2000\n",
            "11                                               Cueramaro  -0.516  2000\n",
            "11                                                  Ocampo   0.085  2000\n",
            "11                                             Doctor Mora   0.296  2000\n",
            "11                                               Huanimaro  -0.387  2000\n",
            "11                                                Victoria   0.637  2000\n",
            "11                                           Tierra Blanca   0.736  2000\n",
            "11                                             Tarandacuao  -0.735  2000\n",
            "11                                                   Xichu   1.167  2000\n",
            "11                                            Pueblo Nuevo  -0.364  2000\n",
            "11                                                 Coroneo   -0.02  2000\n",
            "11                                      Santiago Maravatio  -0.455  2000\n",
            "11                                                 Atarjea   0.978  2000\n",
            "11                                          Santa Catarina   0.283  2000\n",
            "                                                       MUN      IM   AÑO\n",
            "CVE_ENT                                                                 \n",
            "11                                                    Leon  -1.502  2005\n",
            "11                                                Irapuato  -1.252  2005\n",
            "11                                                  Celaya  -1.461  2005\n",
            "11                                               Salamanca  -1.214  2005\n",
            "11                                              Guanajuato  -1.272  2005\n",
            "11                                                   Silao  -0.665  2005\n",
            "11                                   San Miguel de Allende  -0.404  2005\n",
            "11                                                 Penjamo  -0.325  2005\n",
            "11        Dolores Hidalgo Cuna de la Independencia Naci...  -0.221  2005\n",
            "11                                       Valle de Santiago  -0.575  2005\n",
            "11                                San Francisco del Rincon  -1.085  2005\n",
            "11                                                Acambaro  -0.835  2005\n",
            "11                                      San Luis de la Paz  -0.155  2005\n",
            "11                                              San Felipe   0.203  2005\n",
            "11                                             Salvatierra  -0.734  2005\n",
            "11                                                Cortazar  -0.942  2005\n",
            "11                                                 Abasolo  -0.267  2005\n",
            "11                                        Apaseo el Grande  -0.568  2005\n",
            "11                           Santa Cruz de Juventino Rosas  -0.332  2005\n",
            "11                                               Comonfort   -0.13  2005\n",
            "11                                                 Yuriria  -0.444  2005\n",
            "11                                       San Jose Iturbide   -0.58  2005\n",
            "11                                          Apaseo el Alto  -0.447  2005\n",
            "11                                     Purisima del Rincon  -0.897  2005\n",
            "11                                               Uriangato  -1.176  2005\n",
            "11                                                  Romita  -0.246  2005\n",
            "11                                               Villagran  -0.936  2005\n",
            "11                                                Moroleon  -1.386  2005\n",
            "11                                               Jerecuaro   0.254  2005\n",
            "11                                   San Diego de la Union   0.324  2005\n",
            "11                                          Manuel Doblado  -0.285  2005\n",
            "11                                                Tarimoro   -0.39  2005\n",
            "11                                      Jaral del Progreso  -0.807  2005\n",
            "11                                               Cueramaro  -0.295  2005\n",
            "11                                             Doctor Mora   0.178  2005\n",
            "11                                                  Ocampo   0.008  2005\n",
            "11                                                Victoria   0.586  2005\n",
            "11                                               Huanimaro  -0.363  2005\n",
            "11                                           Tierra Blanca   0.712  2005\n",
            "11                                                 Coroneo  -0.113  2005\n",
            "11                                                   Xichu   0.987  2005\n",
            "11                                             Tarandacuao  -0.671  2005\n",
            "11                                            Pueblo Nuevo  -0.329  2005\n",
            "11                                      Santiago Maravatio  -0.391  2005\n",
            "11                                                 Atarjea    0.92  2005\n",
            "11                                          Santa Catarina   0.784  2005\n",
            "                                                       MUN      IM   AÑO\n",
            "CVE_ENT                                                                 \n",
            "11        Leon                                         ...  -1.501  2010\n",
            "11        Irapuato                                     ...  -1.287  2010\n",
            "11        Celaya                                       ...  -1.408  2010\n",
            "11        Salamanca                                    ...  -1.269  2010\n",
            "11        Silao                                        ...  -0.661  2010\n",
            "11        Guanajuato                                   ...  -1.273  2010\n",
            "11        San Miguel de Allende                        ...  -0.389  2010\n",
            "11        Penjamo                                      ...  -0.323  2010\n",
            "11        Dolores Hidalgo Cuna de la Independencia Naci...  -0.144  2010\n",
            "11        Valle de Santiago                            ...  -0.555  2010\n",
            "11        San Luis de la Paz                           ...  -0.206  2010\n",
            "11        San Francisco del Rincon                     ...  -1.059  2010\n",
            "11        Acambaro                                     ...  -0.793  2010\n",
            "11        San Felipe                                   ...   0.124  2010\n",
            "11        Salvatierra                                  ...  -0.605  2010\n",
            "11        Cortazar                                     ...  -0.999  2010\n",
            "11        Apaseo el Grande                             ...  -0.628  2010\n",
            "11        Abasolo                                      ...  -0.182  2010\n",
            "11        Santa Cruz de Juventino Rosas                ...  -0.315  2010\n",
            "11        Comonfort                                    ...   -0.18  2010\n",
            "11        San Jose Iturbide                            ...   -0.69  2010\n",
            "11        Yuriria                                      ...  -0.424  2010\n",
            "11        Purisima del Rincon                          ...  -0.997  2010\n",
            "11        Apaseo el Alto                               ...  -0.476  2010\n",
            "11        Uriangato                                    ...  -1.146  2010\n",
            "11        Romita                                       ...  -0.281  2010\n",
            "11        Villagran                                    ...   -0.96  2010\n",
            "11        Jerecuaro                                    ...   0.371  2010\n",
            "11        Moroleon                                     ...  -1.329  2010\n",
            "11        Manuel Doblado                               ...    -0.2  2010\n",
            "11        San Diego de la Union                        ...   0.307  2010\n",
            "11        Jaral del Progreso                           ...  -0.822  2010\n",
            "11        Tarimoro                                     ...  -0.413  2010\n",
            "11        Cueramaro                                    ...  -0.475  2010\n",
            "11        Doctor Mora                                  ...   0.001  2010\n",
            "11        Ocampo                                       ...   0.053  2010\n",
            "11        Huanimaro                                    ...  -0.423  2010\n",
            "11        Victoria                                     ...   0.258  2010\n",
            "11        Tierra Blanca                                ...   0.678  2010\n",
            "11        Coroneo                                      ...  -0.201  2010\n",
            "11        Tarandacuao                                  ...  -0.573  2010\n",
            "11        Xichu                                        ...    1.04  2010\n",
            "11        Pueblo Nuevo                                 ...  -0.295  2010\n",
            "11        Santiago Maravatio                           ...  -0.289  2010\n",
            "11        Atarjea                                      ...   0.886  2010\n",
            "11        Santa Catarina                               ...   0.256  2010\n",
            "                                                       MUN      IM   AÑO\n",
            "CVE_ENT                                                                 \n",
            "11                                                    Leon  -1.494  2015\n",
            "11                                                Irapuato  -1.276  2015\n",
            "11                                                  Celaya  -1.386  2015\n",
            "11                                               Salamanca  -1.296  2015\n",
            "11                                    Silao de la Victoria  -0.785  2015\n",
            "11                                              Guanajuato  -1.272  2015\n",
            "11                                   San Miguel de Allende  -0.611  2015\n",
            "11       Dolores Hidalgo Cuna de la Independencia Nacional  -0.268  2015\n",
            "11                                                 Penjamo  -0.304  2015\n",
            "11                                       Valle de Santiago   -0.55  2015\n",
            "11                                      San Luis de la Paz  -0.246  2015\n",
            "11                                San Francisco del Rincon  -1.064  2015\n",
            "11                                              San Felipe  -0.044  2015\n",
            "11                                                Acambaro  -0.861  2015\n",
            "11                                             Salvatierra  -0.639  2015\n",
            "11                                                Cortazar  -0.967  2015\n",
            "11                                        Apaseo el Grande  -0.803  2015\n",
            "11                                                 Abasolo  -0.265  2015\n",
            "11                           Santa Cruz de Juventino Rosas  -0.431  2015\n",
            "11                                               Comonfort    -0.2  2015\n",
            "11                                     Purisima del Rincon  -1.004  2015\n",
            "11                                       San Jose Iturbide  -0.914  2015\n",
            "11                                                 Yuriria  -0.419  2015\n",
            "11                                          Apaseo el Alto  -0.643  2015\n",
            "11                                               Uriangato  -1.005  2015\n",
            "11                                                  Romita  -0.449  2015\n",
            "11                                               Villagran   -1.02  2015\n",
            "11                                                Moroleon  -1.197  2015\n",
            "11                                               Jerecuaro  -0.017  2015\n",
            "11                                   San Diego de la Union    0.27  2015\n",
            "11                                          Manuel Doblado  -0.425  2015\n",
            "11                                      Jaral del Progreso  -0.795  2015\n",
            "11                                                Tarimoro  -0.447  2015\n",
            "11                                               Cueramaro  -0.483  2015\n",
            "11                                             Doctor Mora  -0.286  2015\n",
            "11                                                  Ocampo  -0.174  2015\n",
            "11                                               Huanimaro  -0.527  2015\n",
            "11                                                Victoria   0.059  2015\n",
            "11                                           Tierra Blanca   0.413  2015\n",
            "11                                             Tarandacuao  -0.574  2015\n",
            "11                                                 Coroneo  -0.415  2015\n",
            "11                                            Pueblo Nuevo  -0.411  2015\n",
            "11                                                   Xichu   0.677  2015\n",
            "11                                      Santiago Maravatio  -0.388  2015\n",
            "11                                          Santa Catarina   0.147  2015\n",
            "11                                                 Atarjea   0.627  2015\n"
          ],
          "name": "stdout"
        }
      ]
    },
    {
      "cell_type": "code",
      "metadata": {
        "colab": {
          "base_uri": "https://localhost:8080/"
        },
        "id": "bbqEJ1BXnku5",
        "outputId": "3a3c576e-82d0-4c63-e7b0-a7feb6e51ab5"
      },
      "source": [
        "# Obtener la media de todos los municipios por año\n",
        "data_mean = get_mean_im(new_csv)\n",
        "data_mean"
      ],
      "execution_count": null,
      "outputs": [
        {
          "output_type": "execute_result",
          "data": {
            "text/plain": [
              "{1990: -0.2918478260869565,\n",
              " 1995: -0.415695652173913,\n",
              " 2000: -0.42149999999999993,\n",
              " 2005: -0.40736956521739137,\n",
              " 2010: -0.4303695652173914,\n",
              " 2015: -0.5252608695652176}"
            ]
          },
          "metadata": {
            "tags": []
          },
          "execution_count": 13
        }
      ]
    },
    {
      "cell_type": "code",
      "metadata": {
        "id": "tRQmpOM2ntV7"
      },
      "source": [
        "x = [key for key in data_mean.keys()]\n",
        "y  = [value for value in data_mean.values()]"
      ],
      "execution_count": null,
      "outputs": []
    },
    {
      "cell_type": "code",
      "metadata": {
        "colab": {
          "base_uri": "https://localhost:8080/",
          "height": 295
        },
        "id": "97L0VRHUnxAZ",
        "outputId": "4cbf5a4c-9b1a-4dd9-c117-d4aced8b63d1"
      },
      "source": [
        "plt.plot(x, y, color = 'black')\n",
        "plt.plot(x, y, 'bo')\n",
        "plt.title('Indice de marginación por año en GTO')\n",
        "plt.xlabel('Año')\n",
        "plt.ylabel('Indice de Marginación (IM)')\n",
        "plt.show()"
      ],
      "execution_count": null,
      "outputs": [
        {
          "output_type": "display_data",
          "data": {
            "image/png": "[encoded data removed]",
            "text/plain": [
              "<Figure size 432x288 with 1 Axes>"
            ]
          },
          "metadata": {
            "tags": [],
            "needs_background": "light"
          }
        }
      ]
    },
    {
      "cell_type": "code",
      "metadata": {
        "id": "s_zJndQMuKPE"
      },
      "source": [
        "x_1 = np.array(x).reshape(-1, 1)"
      ],
      "execution_count": null,
      "outputs": []
    },
    {
      "cell_type": "code",
      "metadata": {
        "colab": {
          "base_uri": "https://localhost:8080/"
        },
        "id": "qY_EdFmQp4jO",
        "outputId": "b1bd2c3b-720f-47eb-c3d7-774a61b9d6ce"
      },
      "source": [
        "#Regresión lineal\n",
        "model = LinearRegression()\n",
        "model.fit(x_1, y)\n",
        "R_sq = model.score(x_1, y)\n",
        "print(\"R^2 = \", R_sq)\n",
        "print(\"b = \", model.intercept_)\n",
        "print(\"m = \", model.coef_)"
      ],
      "execution_count": null,
      "outputs": [
        {
          "output_type": "stream",
          "text": [
            "R^2 =  0.7399463256258313\n",
            "b =  13.281261904761923\n",
            "m =  [-0.00683975]\n"
          ],
          "name": "stdout"
        }
      ]
    },
    {
      "cell_type": "code",
      "metadata": {
        "colab": {
          "base_uri": "https://localhost:8080/"
        },
        "id": "uGLiSLNFx1zA",
        "outputId": "6df92c64-17b4-4297-aa11-f2ee372709b8"
      },
      "source": [
        "# Nuevos valores y de la regresión\n",
        "y_predict = model.predict(x_1)\n",
        "print(\"Valores de y en para la regresión lineal: \", y_predict)"
      ],
      "execution_count": null,
      "outputs": [
        {
          "output_type": "stream",
          "text": [
            "Valores de y en para la regresión lineal:  [-0.32984369 -0.36404244 -0.3982412  -0.43243996 -0.46663872 -0.50083747]\n"
          ],
          "name": "stdout"
        }
      ]
    },
    {
      "cell_type": "code",
      "metadata": {
        "colab": {
          "base_uri": "https://localhost:8080/"
        },
        "id": "Z_M_Dn8ux2BT",
        "outputId": "5e7ba16a-6569-460a-a74d-61c89bf5a822"
      },
      "source": [
        "# Extrapolar para el año 2020\n",
        "x_2020 = np.array([2020]).reshape(-1,1)\n",
        "y_2020 = model.predict(x_2020)\n",
        "print(\"IM predicho para 2020: \", y_2020)"
      ],
      "execution_count": null,
      "outputs": [
        {
          "output_type": "stream",
          "text": [
            "IM predicho para 2020:  [-0.53503623]\n"
          ],
          "name": "stdout"
        }
      ]
    },
    {
      "cell_type": "code",
      "metadata": {
        "id": "_aRr3YkFz_9E"
      },
      "source": [
        "# Nuevas coordenadas para la gráfica\n",
        "x_new = np.array(np.concatenate([x_1, x_2020]))\n",
        "y_new = np.array(np.concatenate([y_predict, y_2020]))"
      ],
      "execution_count": null,
      "outputs": []
    },
    {
      "cell_type": "code",
      "metadata": {
        "colab": {
          "base_uri": "https://localhost:8080/",
          "height": 295
        },
        "id": "jROa_inx0ABS",
        "outputId": "a7713b83-99b1-4e09-9f8b-52d124d895b8"
      },
      "source": [
        "# Graficar la regresión lineal\n",
        "plt.plot(x_new, y_new, color = 'black')\n",
        "plt.plot(x, y, 'bo')\n",
        "plt.title('Regresión lineal: Indice de marginación por año en GTO')\n",
        "plt.xlabel('Año')\n",
        "plt.ylabel('Indice de Marginación (IM)')\n",
        "plt.show()"
      ],
      "execution_count": null,
      "outputs": [
        {
          "output_type": "display_data",
          "data": {
            "image/png": "[encoded data removed]",
            "text/plain": [
              "<Figure size 432x288 with 1 Axes>"
            ]
          },
          "metadata": {
            "tags": [],
            "needs_background": "light"
          }
        }
      ]
    }
  ]
}